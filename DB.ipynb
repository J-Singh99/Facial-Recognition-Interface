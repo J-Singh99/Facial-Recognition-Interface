{
 "cells": [
  {
   "cell_type": "code",
   "execution_count": null,
   "metadata": {},
   "outputs": [],
   "source": [
    "#Database File\n",
    "## Name, Age, "
   ]
  },
  {
   "cell_type": "code",
   "execution_count": 1,
   "metadata": {},
   "outputs": [],
   "source": [
    "DB = {}"
   ]
  },
  {
   "cell_type": "code",
   "execution_count": 2,
   "metadata": {},
   "outputs": [],
   "source": [
    "Entry1 = {\n",
    "    \"ID\":1,\n",
    "    \"Name\": \"Jaspreet Singh\",\n",
    "    \"Age\": 21,\n",
    "    \"Gender\": 'M',\n",
    "    \"Number\": 1234567890,\n",
    "    \"Balance\": 696969\n",
    "}\n",
    "\n",
    "Entry2 = {\n",
    "    \"ID\":2,\n",
    "    \"Name\": \"Ashish Adhikari\",\n",
    "    \"Age\": 23,\n",
    "    \"Gender\": 'M',\n",
    "    \"Number\": 9517599874,\n",
    "    \"Balance\": 12345\n",
    "}\n",
    "\n",
    "Entry3 = {\n",
    "    \"ID\":3,\n",
    "    \"Name\": \"Obama\",\n",
    "    \"Age\": 52,\n",
    "    \"Gender\": 'M',\n",
    "    \"Number\": 1000000000,\n",
    "    \"Balance\": 9999999\n",
    "}\n",
    "\n",
    "Entry4 = {\n",
    "    \"ID\":4,\n",
    "    \"Name\": \"Elon Musk\",\n",
    "    \"Age\": 40,\n",
    "    \"Gender\": 'M',\n",
    "    \"Number\": 9874589621,\n",
    "    \"Balance\": 9878987\n",
    "}\n",
    "\n",
    "Entry5 = {\n",
    "    \"ID\":5,\n",
    "    \"Name\": \"Anne Hathaway\",\n",
    "    \"Age\": 37,\n",
    "    \"Gender\": 'F',\n",
    "    \"Number\": 3245879456,\n",
    "    \"Balance\": 516846\n",
    "}\n"
   ]
  },
  {
   "cell_type": "code",
   "execution_count": 3,
   "metadata": {},
   "outputs": [],
   "source": [
    "DB[1] = Entry1\n",
    "DB[2] = Entry2\n",
    "DB[3] = Entry3\n",
    "DB[4] = Entry4\n",
    "DB[5] = Entry5"
   ]
  },
  {
   "cell_type": "code",
   "execution_count": null,
   "metadata": {},
   "outputs": [],
   "source": []
  }
 ],
 "metadata": {
  "kernelspec": {
   "display_name": "Python 3",
   "language": "python",
   "name": "python3"
  },
  "language_info": {
   "codemirror_mode": {
    "name": "ipython",
    "version": 3
   },
   "file_extension": ".py",
   "mimetype": "text/x-python",
   "name": "python",
   "nbconvert_exporter": "python",
   "pygments_lexer": "ipython3",
   "version": "3.7.3"
  }
 },
 "nbformat": 4,
 "nbformat_minor": 2
}
