{
 "cells": [
  {
   "cell_type": "code",
   "execution_count": 1,
   "metadata": {},
   "outputs": [],
   "source": [
    "import face_recognition\n",
    "import cv2\n",
    "import numpy as np\n",
    "import PrebuiltBill"
   ]
  },
  {
   "cell_type": "code",
   "execution_count": 2,
   "metadata": {},
   "outputs": [
    {
     "name": "stdout",
     "output_type": "stream",
     "text": [
      "If you want to use a prebuilt model, type in 'Y'.\n",
      "The model is trained on Obama, Elon Musk, Scarlet Johansen, and The Creator!\n",
      "N\n",
      "All training files should be within the \"Training Folder\"!!!\n",
      "Enter the full name: Jaspreet\n",
      "Enter the age: 23\n",
      "Enter gender (M/F): M\n",
      "Enter phone number: 223433\n",
      "Enter account balance: 23432\n",
      "Enter the file name: Jaspreet.jpeg\n",
      "Enter \"N\" to exit!Y\n",
      "\n",
      "\n",
      "Enter the full name: Obama\n",
      "Enter the age: 123\n",
      "Enter gender (M/F): M\n",
      "Enter phone number: 123\n",
      "Enter account balance: 123432\n",
      "Enter the file name: Obama.jpg\n",
      "Enter \"N\" to exit!N\n",
      "\n",
      "\n"
     ]
    }
   ],
   "source": [
    "db, bill = 0, 0\n",
    "\n",
    "print(\"If you want to use a prebuilt model, type in 'Y'.\")\n",
    "print(\"The model is trained on Obama, Elon Musk, Scarlet Johansen, and The Creator!\")\n",
    "a = input()\n",
    "if a == 'Y':\n",
    "    import PrebuiltDB\n",
    "    db = PrebuiltDB.DB\n",
    "    print('Importing data from pre-built model...')\n",
    "else:\n",
    "    import DataStore\n",
    "    db = DataStore.DB\n",
    "\n",
    "n = len(db)"
   ]
  },
  {
   "cell_type": "code",
   "execution_count": 3,
   "metadata": {},
   "outputs": [],
   "source": [
    "from csv import writer\n",
    "from csv import DictWriter\n",
    "\n",
    "field_names = ['ID', 'Name', 'Age', 'Gender', 'Number', 'Balance', 'FileName']\n",
    "file_name = 'PeoplesList.csv'\n",
    "\n",
    "with open(file_name, 'a+', newline='') as write_obj:\n",
    "    csv_writer = writer(write_obj)\n",
    "    csv_writer.writerow(field_names)"
   ]
  },
  {
   "cell_type": "code",
   "execution_count": 4,
   "metadata": {},
   "outputs": [],
   "source": [
    "checklist = [False]*n\n",
    "BigCheck = True\n",
    "def ExtractInfo(mathes):\n",
    "    if not False in checklist: BigCheck = False\n",
    "        \n",
    "    if not True in matches: \n",
    "        pass #print('Unknown')\n",
    "    else:\n",
    "        for i in range(n):\n",
    "            if (checklist[i] == False) and (matches[i] == True):\n",
    "                checklist[i] = True"
   ]
  },
  {
   "cell_type": "code",
   "execution_count": 5,
   "metadata": {},
   "outputs": [],
   "source": [
    "known_face_encodings = []\n",
    "known_face_names =[]\n",
    "\n",
    "for j in db:\n",
    "    i = str(db[j]['ID'])\n",
    "    \n",
    "    known_face_names.append(db[j]['Name'])\n",
    "    \n",
    "    ImCode = 'image' + i + ' = face_recognition.load_image_file(\"' + db[j]['FileName'] + '\")'\n",
    "    exec(ImCode)\n",
    "    \n",
    "    EnCode = 'face_encoding_' + i + '= face_recognition.face_encodings(image' + i + ')[0]'\n",
    "    exec(EnCode)\n",
    "    \n",
    "    ApCode = 'known_face_encodings.append(face_encoding_' + i + ')'\n",
    "    exec(ApCode)"
   ]
  },
  {
   "cell_type": "code",
   "execution_count": 6,
   "metadata": {},
   "outputs": [],
   "source": [
    "video_capture = cv2.VideoCapture(0)\n",
    "\n",
    "# Initialize these variables to pre allot space\n",
    "face_encodings, face_locations, face_names, process_this_frame = [], [], [], True\n",
    "\n",
    "# Run loop to capture and give output\n",
    "while True:\n",
    "    \n",
    "    ret, frame = video_capture.read()\n",
    "    small_frame = cv2.resize(frame, (0, 0), fx=0.25, fy=0.25) #Resizing captured frame\n",
    "    rgb_small_frame = small_frame[:, :, ::-1] #BGR -> RGB\n",
    "\n",
    "    if process_this_frame: # Processing only half the frames for speed\n",
    "        face_locations = face_recognition.face_locations(rgb_small_frame)\n",
    "        face_encodings = face_recognition.face_encodings(rgb_small_frame, face_locations)\n",
    "        face_names = []\n",
    "        for face_encoding in face_encodings:\n",
    "            matches = face_recognition.compare_faces(known_face_encodings, face_encoding)\n",
    "            name = \"Unknown\"\n",
    "            if BigCheck: ExtractInfo(matches)\n",
    "            face_distances = face_recognition.face_distance(known_face_encodings, face_encoding)\n",
    "            best_match_index = np.argmin(face_distances)\n",
    "            if matches[best_match_index]:\n",
    "                name = known_face_names[best_match_index]\n",
    "            face_names.append(name)\n",
    "\n",
    "    process_this_frame = not process_this_frame\n",
    "\n",
    "\n",
    "    for (top, right, bottom, left), name in zip(face_locations, face_names): #Rescale\n",
    "        top *= 4\n",
    "        right *= 4\n",
    "        bottom *= 4\n",
    "        left *= 4\n",
    "        \n",
    "        #Style the Box\n",
    "        cv2.rectangle(frame, (left, top), (right, bottom), (0, 0, 255), 2)\n",
    "        cv2.rectangle(frame, (left, bottom - 35), (right, bottom), (0, 0, 255), cv2.FILLED)\n",
    "        font = cv2.FONT_HERSHEY_DUPLEX\n",
    "        cv2.putText(frame, name, (left + 6, bottom - 6), font, 1.0, (255, 255, 255), 1)\n",
    "\n",
    "    cv2.imshow('Video', frame) #Display output box in video\n",
    "\n",
    "    if cv2.waitKey(1) & 0xFF == ord('q'): # Quit if Q/q is pressed\n",
    "        break\n",
    "\n",
    "video_capture.release()\n",
    "cv2.destroyAllWindows()"
   ]
  },
  {
   "cell_type": "code",
   "execution_count": 7,
   "metadata": {},
   "outputs": [
    {
     "name": "stdout",
     "output_type": "stream",
     "text": [
      "If you want to use a automatic billing mechanism, type in 'Y'.\n",
      "N\n",
      "Preparing bill for Obama :\n",
      "Enter Item Name : White House\n",
      "Enter price of Item: 20\n",
      "Enter quantity of Item purchased: 1\n",
      "Enter \"Y\" to enter another item.Y\n",
      "Bill Completed\n",
      "\n",
      "\n",
      "Enter Item Name : Guns\n",
      "Enter price of Item: 30\n",
      "Enter quantity of Item purchased: 20\n",
      "Enter \"Y\" to enter another item.N\n",
      "Bill Completed\n",
      "\n",
      "\n"
     ]
    }
   ],
   "source": [
    "print(\"If you want to use a automatic billing mechanism, type in 'Y'.\")\n",
    "b = input()\n",
    "if b == 'Y':\n",
    "    bill = PrebuiltBill.BILL\n",
    "    print('Importing bill...')\n",
    "    print()\n",
    "    print()\n",
    "else:\n",
    "    import BillMaker\n",
    "    bill = BillMaker.Billing(checklist, known_face_names, db)"
   ]
  },
  {
   "cell_type": "code",
   "execution_count": 8,
   "metadata": {},
   "outputs": [
    {
     "name": "stdout",
     "output_type": "stream",
     "text": [
      "Calculating bill for Obama\n",
      "Here\n",
      "Item Name => Item Price x Item Quantity = Total\n",
      "White House => 20 x 1 = 20\n",
      "Guns => 30 x 20 = 600\n",
      "The total bill amounts up to 620\n",
      "\n",
      "\n"
     ]
    }
   ],
   "source": [
    "def HandleFace(name):\n",
    "    for j in db:\n",
    "        if name == db[j]['Name']:\n",
    "        \n",
    "            with open(file_name, 'a+', newline='') as write_obj:\n",
    "                dict_writer = DictWriter(write_obj, fieldnames=field_names)\n",
    "                dict_writer.writerow(db[j])\n",
    "                \n",
    "                ID = db[j]['ID']\n",
    "                print('Calculating bill for ' + db[j]['Name'])\n",
    "                if b == 'Y':\n",
    "                    PrebuiltBill.DoCalc(ID, bill)\n",
    "                else:\n",
    "                    BillMaker.DoCalc(ID, bill)\n",
    "                print()\n",
    "                print()\n",
    "                \n",
    "def FinalBilling(checklist):\n",
    "    for i in range(n):\n",
    "        if checklist[i] == True:\n",
    "            HandleFace(known_face_names[i])\n",
    "            \n",
    "    \n",
    "    \n",
    "# Printing the Bill\n",
    "FinalBilling(checklist)"
   ]
  }
 ],
 "metadata": {
  "kernelspec": {
   "display_name": "Python 3",
   "language": "python",
   "name": "python3"
  },
  "language_info": {
   "codemirror_mode": {
    "name": "ipython",
    "version": 3
   },
   "file_extension": ".py",
   "mimetype": "text/x-python",
   "name": "python",
   "nbconvert_exporter": "python",
   "pygments_lexer": "ipython3",
   "version": "3.7.3"
  }
 },
 "nbformat": 4,
 "nbformat_minor": 2
}
