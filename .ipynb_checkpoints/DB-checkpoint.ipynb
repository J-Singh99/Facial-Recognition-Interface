{
 "cells": [
  {
   "cell_type": "code",
   "execution_count": null,
   "metadata": {},
   "outputs": [],
   "source": [
    "DB = {}"
   ]
  },
  {
   "cell_type": "code",
   "execution_count": null,
   "metadata": {},
   "outputs": [],
   "source": [
    "i = 1\n",
    "a = 'LOL'\n",
    "print('All training files should be within the \"Training Folder\"!!!')\n",
    "while(a != 'N'):\n",
    "    Name = input('Enter the full name: ')\n",
    "    Age = int(input('Enter the age: '))\n",
    "    Gender = input('Enter gender (M/F): ')\n",
    "    Number = int(input('Enter phone number: '))\n",
    "    Balance = int(input('Enter account balance: '))\n",
    "    FileName = input('Enter the file name: ')\n",
    "    \n",
    "    Entry = {\n",
    "        \"ID\" : i,\n",
    "        \"Name\": Name,\n",
    "        \"Age\" : Age,\n",
    "        \"Gender\" : Gender,\n",
    "        \"Number\" : Number,\n",
    "        \"Balance\" : Balance,\n",
    "        \"FileName\" : FileName\n",
    "    }\n",
    "    \n",
    "    DB[i] = Entry\n",
    "    \n",
    "    i += 1\n",
    "    a = input('Enter \"N\" to exit!')\n",
    "    print()\n",
    "    print()"
   ]
  }
 ],
 "metadata": {
  "kernelspec": {
   "display_name": "Python 3",
   "language": "python",
   "name": "python3"
  },
  "language_info": {
   "codemirror_mode": {
    "name": "ipython",
    "version": 3
   },
   "file_extension": ".py",
   "mimetype": "text/x-python",
   "name": "python",
   "nbconvert_exporter": "python",
   "pygments_lexer": "ipython3",
   "version": "3.7.3"
  }
 },
 "nbformat": 4,
 "nbformat_minor": 2
}
