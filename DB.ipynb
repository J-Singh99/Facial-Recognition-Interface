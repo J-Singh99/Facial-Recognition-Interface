{
 "cells": [
  {
   "cell_type": "code",
   "execution_count": null,
   "metadata": {},
   "outputs": [],
   "source": [
    "DB = {}"
   ]
  },
  {
   "cell_type": "code",
   "execution_count": null,
   "metadata": {},
   "outputs": [],
   "source": [
    "i = 1\n",
    "a = 'LOL'\n",
    "print('All training files should be within the \"Training Folder\"!!!')\n",
    "while(a != 'N'):\n",
    "    Name = input('Enter the full name: ')\n",
    "    Age = int(input('Enter the age: '))\n",
    "    Gender = input('Enter gender (M/F): ')\n",
    "    Number = int(input('Enter phone number: '))\n",
    "    Balance = int(input('Enter account balance: '))\n",
    "    FileName = input('Enter the file name: ')\n",
    "    \n",
    "    Entry = {\n",
    "        \"ID\" : i,\n",
    "        \"Name\": Name,\n",
    "        \"Age\" : Age,\n",
    "        \"Gender\" : Gender,\n",
    "        \"Number\" : Number,\n",
    "        \"Balance\" : Balance,\n",
    "        \"FileName\" : FileName\n",
    "    }\n",
    "    \n",
    "    DB[i] = Entry\n",
    "    \n",
    "    i += 1\n",
    "    a = input('Enter \"N\" to exit!')\n",
    "    print()\n",
    "    print()"
   ]
  },
  {
   "cell_type": "code",
   "execution_count": 6,
   "metadata": {},
   "outputs": [],
   "source": [
    "BILL = {}\n",
    "\n",
    "Entry1 = {\n",
    "    'ID' : 1,\n",
    "\t'Items' : [('Bears', 2, 2),\n",
    "\t\t\t   ('Beets', 50, 100),\n",
    "\t\t\t   ('Battle Star Galactica', 1, 1500),\n",
    "\t\t\t   ('Pepsi', 25, 4)]\n",
    "}\n",
    "\n",
    "Entry2 = {\n",
    "\t'ID' : 2,\n",
    "\t'Items' : [('Guitar', 2000, 2),\n",
    "\t\t\t   ('TV', 50000, 1),\n",
    "\t\t\t   ('Football', 500, 1),\n",
    "\t\t\t   ('Pepsi', 25, 4)]\n",
    "}\n",
    "\n",
    "Entry3 = {\n",
    "\t'ID' : 3,\n",
    "\t'Items' : [('White House', 10000, 1),\n",
    "\t\t\t   ('AK-47', 5000, 1000),\n",
    "\t\t\t   ('Tie', 500, 5),\n",
    "\t\t\t   ('Doughnut', 17, 10)]\n",
    "}\n",
    "\n",
    "Entry4 = {\n",
    "\t'ID' : 4,\n",
    "\t'Items' : [('Tesla', 1000, 2),\n",
    "\t\t\t   ('Falcon', 50000, 3),\n",
    "\t\t\t   ('Flame Thrower', 13000, 3)]\n",
    "}\n",
    "\n",
    "Entry5 = {\n",
    "\t'ID' : 5,\n",
    "\t'Items' : [('Mask', 20000, 4),\n",
    "\t\t\t   ('Cape', 50, 10),\n",
    "\t\t\t   ('Bat Mobile', 15000, 6),\n",
    "\t\t\t   ('Batrang', 25, 4000)]\n",
    "}"
   ]
  },
  {
   "cell_type": "code",
   "execution_count": 8,
   "metadata": {},
   "outputs": [],
   "source": [
    "BILL[1] = Entry1\n",
    "BILL[2] = Entry2\n",
    "BILL[3] = Entry3\n",
    "BILL[4] = Entry4\n",
    "BILL[5] = Entry5"
   ]
  },
  {
   "cell_type": "code",
   "execution_count": 9,
   "metadata": {},
   "outputs": [
    {
     "data": {
      "text/plain": [
       "{1: {'ID': 1,\n",
       "  'Items': [('Bears', 2, 2),\n",
       "   ('Beets', 50, 100),\n",
       "   ('Battle Star Galactica', 1, 1500),\n",
       "   ('Pepsi', 25, 4)]},\n",
       " 2: {'ID': 2,\n",
       "  'Items': [('Guitar', 2000, 2),\n",
       "   ('TV', 50000, 1),\n",
       "   ('Football', 500, 1),\n",
       "   ('Pepsi', 25, 4)]},\n",
       " 3: {'ID': 3,\n",
       "  'Items': [('White House', 10000, 1),\n",
       "   ('AK-47', 5000, 1000),\n",
       "   ('Tie', 500, 5),\n",
       "   ('Doughnut', 17, 10)]},\n",
       " 4: {'ID': 4,\n",
       "  'Items': [('Tesla', 1000, 2),\n",
       "   ('Falcon', 50000, 3),\n",
       "   ('Flame Thrower', 13000, 3)]},\n",
       " 5: {'ID': 5,\n",
       "  'Items': [('Mask', 20000, 4),\n",
       "   ('Cape', 50, 10),\n",
       "   ('Bat Mobile', 15000, 6),\n",
       "   ('Batrang', 25, 4000)]}}"
      ]
     },
     "execution_count": 9,
     "metadata": {},
     "output_type": "execute_result"
    }
   ],
   "source": [
    "BILL"
   ]
  }
 ],
 "metadata": {
  "kernelspec": {
   "display_name": "Python 3",
   "language": "python",
   "name": "python3"
  },
  "language_info": {
   "codemirror_mode": {
    "name": "ipython",
    "version": 3
   },
   "file_extension": ".py",
   "mimetype": "text/x-python",
   "name": "python",
   "nbconvert_exporter": "python",
   "pygments_lexer": "ipython3",
   "version": "3.7.3"
  }
 },
 "nbformat": 4,
 "nbformat_minor": 2
}
